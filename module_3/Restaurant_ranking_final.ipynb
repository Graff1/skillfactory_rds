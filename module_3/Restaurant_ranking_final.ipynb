{
 "cells": [
  {
   "cell_type": "code",
   "execution_count": 1,
   "metadata": {},
   "outputs": [],
   "source": [
    "# This Python 3 environment comes with many helpful analytics libraries installed\n",
    "# It is defined by the kaggle/python docker image: https://github.com/kaggle/docker-python\n",
    "# For example, here's several helpful packages to load in \n",
    "\n",
    "import numpy as np # linear algebra\n",
    "import pandas as pd # data processing, CSV file I/O (e.g. pd.read_csv)\n",
    "\n",
    "import matplotlib.pyplot as plt\n",
    "import seaborn as sns \n",
    "%matplotlib inline\n",
    "\n",
    "import re\n",
    "import datetime\n",
    "from sklearn.ensemble import RandomForestRegressor # инструмент для создания и обучения модели  \n",
    "from sklearn import metrics # инструменты для оценки точности модели  \n",
    "from collections import Counter\n",
    "import math\n",
    "import ast\n",
    "import re\n",
    "from datetime import datetime\n",
    "from dateutil.parser import parse\n",
    "import missingno as msno\n",
    "import rest_func as rf\n",
    "\n",
    "\n",
    "\n",
    "# Загружаем специальный удобный инструмент для разделения датасета:\n",
    "from sklearn.model_selection import train_test_split\n",
    "\n",
    "# Input data files are available in the \"../input/\" directory.\n",
    "# For example, running this (by clicking run or pressing Shift+Enter) will list all files under the input directory\n",
    "\n",
    "import os\n",
    "for dirname, _, filenames in os.walk('/kaggle/input'):\n",
    "    for filename in filenames:\n",
    "        print(os.path.join(dirname, filename))\n",
    "\n",
    "# Any results you write to the current directory are saved as output."
   ]
  },
  {
   "cell_type": "code",
   "execution_count": 2,
   "metadata": {},
   "outputs": [],
   "source": [
    "# всегда фиксируйте RANDOM_SEED, чтобы ваши эксперименты были воспроизводимы!\n",
    "RANDOM_SEED = 45\n",
    "CURRENT_DATE = pd.to_datetime('19/08/2020')"
   ]
  },
  {
   "cell_type": "markdown",
   "metadata": {},
   "source": [
    "## DATA"
   ]
  },
  {
   "cell_type": "code",
   "execution_count": 3,
   "metadata": {},
   "outputs": [],
   "source": [
    "df = pd.read_csv('main_task.csv')"
   ]
  },
  {
   "cell_type": "code",
   "execution_count": 4,
   "metadata": {},
   "outputs": [
    {
     "data": {
      "text/html": [
       "<div>\n",
       "<style scoped>\n",
       "    .dataframe tbody tr th:only-of-type {\n",
       "        vertical-align: middle;\n",
       "    }\n",
       "\n",
       "    .dataframe tbody tr th {\n",
       "        vertical-align: top;\n",
       "    }\n",
       "\n",
       "    .dataframe thead th {\n",
       "        text-align: right;\n",
       "    }\n",
       "</style>\n",
       "<table border=\"1\" class=\"dataframe\">\n",
       "  <thead>\n",
       "    <tr style=\"text-align: right;\">\n",
       "      <th></th>\n",
       "      <th>Restaurant_id</th>\n",
       "      <th>City</th>\n",
       "      <th>Cuisine Style</th>\n",
       "      <th>Ranking</th>\n",
       "      <th>Rating</th>\n",
       "      <th>Price Range</th>\n",
       "      <th>Number of Reviews</th>\n",
       "      <th>Reviews</th>\n",
       "      <th>URL_TA</th>\n",
       "      <th>ID_TA</th>\n",
       "    </tr>\n",
       "  </thead>\n",
       "  <tbody>\n",
       "    <tr>\n",
       "      <th>18527</th>\n",
       "      <td>id_1976</td>\n",
       "      <td>Madrid</td>\n",
       "      <td>NaN</td>\n",
       "      <td>1978.0</td>\n",
       "      <td>4.5</td>\n",
       "      <td>NaN</td>\n",
       "      <td>28.0</td>\n",
       "      <td>[['Great Tapas'], ['04/05/2017']]</td>\n",
       "      <td>/Restaurant_Review-g187514-d6516122-Reviews-Ba...</td>\n",
       "      <td>d6516122</td>\n",
       "    </tr>\n",
       "    <tr>\n",
       "      <th>33117</th>\n",
       "      <td>id_8149</td>\n",
       "      <td>Madrid</td>\n",
       "      <td>['Spanish']</td>\n",
       "      <td>8156.0</td>\n",
       "      <td>2.5</td>\n",
       "      <td>$$ - $$$</td>\n",
       "      <td>13.0</td>\n",
       "      <td>[['Paella Valenciana', 'Average food, unfriend...</td>\n",
       "      <td>/Restaurant_Review-g187514-d10517559-Reviews-C...</td>\n",
       "      <td>d10517559</td>\n",
       "    </tr>\n",
       "    <tr>\n",
       "      <th>19740</th>\n",
       "      <td>id_182</td>\n",
       "      <td>Bratislava</td>\n",
       "      <td>['American', 'Grill']</td>\n",
       "      <td>183.0</td>\n",
       "      <td>5.0</td>\n",
       "      <td>$</td>\n",
       "      <td>7.0</td>\n",
       "      <td>[['Funtastic burgers', 'Wow! Good value for mo...</td>\n",
       "      <td>/Restaurant_Review-g274924-d11886627-Reviews-T...</td>\n",
       "      <td>d11886627</td>\n",
       "    </tr>\n",
       "    <tr>\n",
       "      <th>39263</th>\n",
       "      <td>id_4892</td>\n",
       "      <td>Milan</td>\n",
       "      <td>['Italian']</td>\n",
       "      <td>4895.0</td>\n",
       "      <td>4.0</td>\n",
       "      <td>$$ - $$$</td>\n",
       "      <td>14.0</td>\n",
       "      <td>[[], []]</td>\n",
       "      <td>/Restaurant_Review-g187849-d8601298-Reviews-Ty...</td>\n",
       "      <td>d8601298</td>\n",
       "    </tr>\n",
       "    <tr>\n",
       "      <th>33302</th>\n",
       "      <td>id_3216</td>\n",
       "      <td>Milan</td>\n",
       "      <td>['Italian']</td>\n",
       "      <td>3218.0</td>\n",
       "      <td>4.5</td>\n",
       "      <td>NaN</td>\n",
       "      <td>18.0</td>\n",
       "      <td>[[], []]</td>\n",
       "      <td>/Restaurant_Review-g187849-d4053843-Reviews-Pi...</td>\n",
       "      <td>d4053843</td>\n",
       "    </tr>\n",
       "  </tbody>\n",
       "</table>\n",
       "</div>"
      ],
      "text/plain": [
       "      Restaurant_id        City          Cuisine Style  Ranking  Rating  \\\n",
       "18527       id_1976      Madrid                    NaN   1978.0     4.5   \n",
       "33117       id_8149      Madrid            ['Spanish']   8156.0     2.5   \n",
       "19740        id_182  Bratislava  ['American', 'Grill']    183.0     5.0   \n",
       "39263       id_4892       Milan            ['Italian']   4895.0     4.0   \n",
       "33302       id_3216       Milan            ['Italian']   3218.0     4.5   \n",
       "\n",
       "      Price Range  Number of Reviews  \\\n",
       "18527         NaN               28.0   \n",
       "33117    $$ - $$$               13.0   \n",
       "19740           $                7.0   \n",
       "39263    $$ - $$$               14.0   \n",
       "33302         NaN               18.0   \n",
       "\n",
       "                                                 Reviews  \\\n",
       "18527                  [['Great Tapas'], ['04/05/2017']]   \n",
       "33117  [['Paella Valenciana', 'Average food, unfriend...   \n",
       "19740  [['Funtastic burgers', 'Wow! Good value for mo...   \n",
       "39263                                           [[], []]   \n",
       "33302                                           [[], []]   \n",
       "\n",
       "                                                  URL_TA      ID_TA  \n",
       "18527  /Restaurant_Review-g187514-d6516122-Reviews-Ba...   d6516122  \n",
       "33117  /Restaurant_Review-g187514-d10517559-Reviews-C...  d10517559  \n",
       "19740  /Restaurant_Review-g274924-d11886627-Reviews-T...  d11886627  \n",
       "39263  /Restaurant_Review-g187849-d8601298-Reviews-Ty...   d8601298  \n",
       "33302  /Restaurant_Review-g187849-d4053843-Reviews-Pi...   d4053843  "
      ]
     },
     "execution_count": 4,
     "metadata": {},
     "output_type": "execute_result"
    }
   ],
   "source": [
    "df.sample(5)"
   ]
  },
  {
   "cell_type": "code",
   "execution_count": 5,
   "metadata": {},
   "outputs": [
    {
     "name": "stdout",
     "output_type": "stream",
     "text": [
      "<class 'pandas.core.frame.DataFrame'>\n",
      "RangeIndex: 40000 entries, 0 to 39999\n",
      "Data columns (total 10 columns):\n",
      " #   Column             Non-Null Count  Dtype  \n",
      "---  ------             --------------  -----  \n",
      " 0   Restaurant_id      40000 non-null  object \n",
      " 1   City               40000 non-null  object \n",
      " 2   Cuisine Style      30717 non-null  object \n",
      " 3   Ranking            40000 non-null  float64\n",
      " 4   Rating             40000 non-null  float64\n",
      " 5   Price Range        26114 non-null  object \n",
      " 6   Number of Reviews  37457 non-null  float64\n",
      " 7   Reviews            40000 non-null  object \n",
      " 8   URL_TA             40000 non-null  object \n",
      " 9   ID_TA              40000 non-null  object \n",
      "dtypes: float64(3), object(7)\n",
      "memory usage: 3.1+ MB\n"
     ]
    }
   ],
   "source": [
    "df.info()"
   ]
  },
  {
   "cell_type": "markdown",
   "metadata": {},
   "source": [
    "## Создадим функции"
   ]
  },
  {
   "cell_type": "code",
   "execution_count": 6,
   "metadata": {},
   "outputs": [],
   "source": [
    "# Создаем функцию для перевода ценового диапазона в числовое значение\n",
    "def price_range(row):\n",
    "    if row['Price Range'] == '$':\n",
    "        return 1\n",
    "    elif row['Price Range'] == '$$ - $$$':\n",
    "        return 2\n",
    "    elif row['Price Range'] == '$$$$':\n",
    "        return 3\n",
    "    else:\n",
    "        return 0\n",
    "\n",
    "# Функция подсчета количества кухонь в каждом ресторане\n",
    "\n",
    "\n",
    "def filter_cuisine_style(line):\n",
    "    if pd.isnull(line):\n",
    "        return ['one']\n",
    "    else:\n",
    "        line = line.replace('[','')\n",
    "        line = line.replace(']', '')\n",
    "        line = line.strip()\n",
    "        line = [style.strip() for style in line.split(',')]\n",
    "        line = [style for style in line if len(style) > 0]\n",
    "        return line\n",
    "    \n",
    "def calculate_cuisines(row):\n",
    "    return len(row['Cuisine Style'].split(','))\n",
    "\n",
    "#Обработка отзывов\n",
    "def reviews_to_list(line):\n",
    "    if pd.isnull(line):\n",
    "        return ['one']\n",
    "    else:\n",
    "        line = line.replace(']]', '')\n",
    "        line = line.replace(\"'\", '')\n",
    "        line = line.split('], [')[1]\n",
    "        line = line.split(', ')\n",
    "        return line\n",
    "\n"
   ]
  },
  {
   "cell_type": "markdown",
   "metadata": {},
   "source": [
    "## Data"
   ]
  },
  {
   "cell_type": "markdown",
   "metadata": {},
   "source": [
    "Подробнее по признакам:\n",
    "\n",
    "* City: Город  \n",
    "* Cuisine Style: Кухня  \n",
    "* Ranking: Ранг ресторана относительно других ресторанов в этом городе  \n",
    "* Price Range: Цены в ресторане в 3 категориях  \n",
    "* Number of Reviews: Количество отзывов  \n",
    "* Reviews: 2 последних отзыва и даты этих отзывов  \n",
    "* URL_TA: страница ресторана на 'www.tripadvisor.com'  \n",
    "* ID_TA: ID ресторана в TripAdvisor  \n",
    "* Rating: Рейтинг ресторана  "
   ]
  },
  {
   "cell_type": "markdown",
   "metadata": {},
   "source": [
    "Проверим данные на пропуски:\n"
   ]
  },
  {
   "cell_type": "code",
   "execution_count": 7,
   "metadata": {},
   "outputs": [
    {
     "data": {
      "text/plain": [
       "<matplotlib.axes._subplots.AxesSubplot at 0x1a23a16710>"
      ]
     },
     "execution_count": 7,
     "metadata": {},
     "output_type": "execute_result"
    },
    {
     "data": {
      "image/png": "[encoded data removed]",
      "text/plain": [
       "<Figure size 1800x720 with 2 Axes>"
      ]
     },
     "metadata": {
      "needs_background": "light"
     },
     "output_type": "display_data"
    }
   ],
   "source": [
    "msno.matrix(df.sample(350))"
   ]
  },
  {
   "cell_type": "markdown",
   "metadata": {},
   "source": [
    "На графике видны пропуски только в 3-х переменных: Cuisine Style, Price Range, Reviews"
   ]
  },
  {
   "cell_type": "markdown",
   "metadata": {},
   "source": [
    "Oпределим типы данных"
   ]
  },
  {
   "cell_type": "code",
   "execution_count": 8,
   "metadata": {},
   "outputs": [
    {
     "name": "stdout",
     "output_type": "stream",
     "text": [
      "<class 'pandas.core.frame.DataFrame'>\n",
      "RangeIndex: 40000 entries, 0 to 39999\n",
      "Data columns (total 10 columns):\n",
      " #   Column             Non-Null Count  Dtype  \n",
      "---  ------             --------------  -----  \n",
      " 0   Restaurant_id      40000 non-null  object \n",
      " 1   City               40000 non-null  object \n",
      " 2   Cuisine Style      30717 non-null  object \n",
      " 3   Ranking            40000 non-null  float64\n",
      " 4   Rating             40000 non-null  float64\n",
      " 5   Price Range        26114 non-null  object \n",
      " 6   Number of Reviews  37457 non-null  float64\n",
      " 7   Reviews            40000 non-null  object \n",
      " 8   URL_TA             40000 non-null  object \n",
      " 9   ID_TA              40000 non-null  object \n",
      "dtypes: float64(3), object(7)\n",
      "memory usage: 3.1+ MB\n"
     ]
    }
   ],
   "source": [
    "df.info()"
   ]
  },
  {
   "cell_type": "markdown",
   "metadata": {},
   "source": [
    "**Данные отсутствуют в :**\n",
    "\n",
    "* Cuisine Style  \n",
    "* Price Range  \n",
    "* Number of Reviews  "
   ]
  },
  {
   "cell_type": "markdown",
   "metadata": {},
   "source": [
    "**Категориальные данные:**\n",
    "\n",
    "* Restaurant_id  \n",
    "* City  \n",
    "* Cuisine Style  \n",
    "* Price Range  \n",
    "* URL_TA  \n",
    "* ID_TA  "
   ]
  },
  {
   "cell_type": "markdown",
   "metadata": {},
   "source": [
    "**Числовой формат данных:**\n",
    "\n",
    "* Ranking  \n",
    "* Number of Reviews  \n",
    "* Rating  "
   ]
  },
  {
   "cell_type": "markdown",
   "metadata": {},
   "source": [
    "Посмотрим , как распределяется целевая переменная"
   ]
  },
  {
   "cell_type": "code",
   "execution_count": 9,
   "metadata": {},
   "outputs": [
    {
     "data": {
      "text/plain": [
       "<matplotlib.axes._subplots.AxesSubplot at 0x1a237e9dd0>"
      ]
     },
     "execution_count": 9,
     "metadata": {},
     "output_type": "execute_result"
    },
    {
     "data": {
      "image/png": "[encoded data removed]",
      "text/plain": [
       "<Figure size 432x288 with 1 Axes>"
      ]
     },
     "metadata": {
      "needs_background": "light"
     },
     "output_type": "display_data"
    }
   ],
   "source": [
    "df['Rating'].value_counts(ascending=True).plot(kind='barh', title= 'Rating')"
   ]
  },
  {
   "cell_type": "markdown",
   "metadata": {},
   "source": [
    "Больше половины ресторанов имеют рейтинг 4 и выше"
   ]
  },
  {
   "cell_type": "markdown",
   "metadata": {},
   "source": [
    "Теперь посмотрим распределение по городам :"
   ]
  },
  {
   "cell_type": "code",
   "execution_count": 10,
   "metadata": {},
   "outputs": [
    {
     "data": {
      "text/plain": [
       "<matplotlib.axes._subplots.AxesSubplot at 0x10a2dced0>"
      ]
     },
     "execution_count": 10,
     "metadata": {},
     "output_type": "execute_result"
    },
    {
     "data": {
      "image/png": "[encoded data removed]",
      "text/plain": [
       "<Figure size 432x288 with 1 Axes>"
      ]
     },
     "metadata": {
      "needs_background": "light"
     },
     "output_type": "display_data"
    }
   ],
   "source": [
    "df['City'].value_counts(ascending=True).plot(kind='barh')"
   ]
  },
  {
   "cell_type": "markdown",
   "metadata": {},
   "source": [
    "Четверка лидеров: Лондон,Париж,Мадрид,Барселона. \n",
    "Посмотрим распределение в Париже "
   ]
  },
  {
   "cell_type": "markdown",
   "metadata": {},
   "source": [
    "Топ 10 городов"
   ]
  },
  {
   "cell_type": "code",
   "execution_count": 11,
   "metadata": {},
   "outputs": [
    {
     "data": {
      "image/png": "[encoded data removed]",
      "text/plain": [
       "<Figure size 432x288 with 1 Axes>"
      ]
     },
     "metadata": {
      "needs_background": "light"
     },
     "output_type": "display_data"
    }
   ],
   "source": [
    "for x in (df['City'].value_counts())[0:10].index:\n",
    "    df['Ranking'][df['City'] == x].hist(bins=100)\n",
    "plt.show()"
   ]
  },
  {
   "cell_type": "markdown",
   "metadata": {},
   "source": [
    "То есть распределение примерно одинаковое, но чем больше город , тем больше ресторанов (что ж , вполне логично)"
   ]
  },
  {
   "cell_type": "markdown",
   "metadata": {},
   "source": [
    "Распределение целевой переменной относительно признака"
   ]
  },
  {
   "cell_type": "code",
   "execution_count": 12,
   "metadata": {},
   "outputs": [
    {
     "data": {
      "text/plain": [
       "<matplotlib.axes._subplots.AxesSubplot at 0x1a2349a950>"
      ]
     },
     "execution_count": 12,
     "metadata": {},
     "output_type": "execute_result"
    },
    {
     "data": {
      "image/png": "[encoded data removed]",
      "text/plain": [
       "<Figure size 432x288 with 1 Axes>"
      ]
     },
     "metadata": {
      "needs_background": "light"
     },
     "output_type": "display_data"
    }
   ],
   "source": [
    "df['Ranking'][df['Rating'] == 5].hist(bins=100)"
   ]
  },
  {
   "cell_type": "code",
   "execution_count": 13,
   "metadata": {},
   "outputs": [
    {
     "data": {
      "text/plain": [
       "<matplotlib.axes._subplots.AxesSubplot at 0x1a24499ed0>"
      ]
     },
     "execution_count": 13,
     "metadata": {},
     "output_type": "execute_result"
    },
    {
     "data": {
      "image/png": "[encoded data removed]",
      "text/plain": [
       "<Figure size 432x288 with 1 Axes>"
      ]
     },
     "metadata": {
      "needs_background": "light"
     },
     "output_type": "display_data"
    }
   ],
   "source": [
    "df['Ranking'][df['Rating'] < 4].hist(bins=100)"
   ]
  },
  {
   "cell_type": "markdown",
   "metadata": {},
   "source": [
    "## Очистка данных и заполнение пропусков"
   ]
  },
  {
   "cell_type": "markdown",
   "metadata": {},
   "source": [
    "Заполным Couisine Style каким-нибудь словом ,например \"one\" . Number of Reviews нулями из предположения ,что если данных нет, то нет и отзывов "
   ]
  },
  {
   "cell_type": "code",
   "execution_count": 14,
   "metadata": {},
   "outputs": [],
   "source": [
    "df['Number of Reviews'].fillna(0, inplace=True)"
   ]
  },
  {
   "cell_type": "code",
   "execution_count": 15,
   "metadata": {},
   "outputs": [],
   "source": [
    "df['Cuisine Style'].fillna(\"['one']\", inplace=True)"
   ]
  },
  {
   "cell_type": "markdown",
   "metadata": {},
   "source": [
    "Restaurant_id aявно не несёт никакой дополнительной информации и коррелирует с Ranking - удалим его"
   ]
  },
  {
   "cell_type": "code",
   "execution_count": 16,
   "metadata": {},
   "outputs": [],
   "source": [
    "df.drop(['Restaurant_id'], axis=1, inplace=True)"
   ]
  },
  {
   "cell_type": "markdown",
   "metadata": {},
   "source": [
    "## Создание нoвых признаков"
   ]
  },
  {
   "cell_type": "markdown",
   "metadata": {},
   "source": [
    "Для начала создадим словари , которые будем использовать\n"
   ]
  },
  {
   "cell_type": "code",
   "execution_count": 17,
   "metadata": {},
   "outputs": [],
   "source": [
    "# Словарь стран для каждого города \n",
    "countries = {\n",
    "'London' : 'uk' ,\n",
    "'Edinburgh' : 'uk',\n",
    "'Paris': \"france\",\n",
    "'Lyon' : \"france\", \n",
    "'Madrid' :\"spain\",\n",
    "'Barcelona':\"spain\",\n",
    "'Berlin' :\"germany\" ,\n",
    "'Hamburg': \"germany\" ,\n",
    "'Munich' : \"germany\" ,\n",
    "'Rome' :\"italy\" ,\n",
    "'Milan' :\"italy\",\n",
    "'Prague' : \"czech \" ,\n",
    "'Lisbon' : \"portugal\",\n",
    "'Oporto' :\"portugal\",\n",
    "'Vienna': \"austria\",\n",
    "'Amsterdam' : \"netherlands\",\n",
    "'Brussels' : \"belgium\",\n",
    "'Stockholm' : \"sweden\",\n",
    "'Budapest' : \"hungary\" ,\n",
    "'Warsaw' : \"poland\",\n",
    "'Krakow' : \"poland\",\n",
    "'Dublin' : \"ireland\",\n",
    "'Zurich' : \"swiss\",\n",
    "'Geneva' : \"swiss\",\n",
    "'Oslo' : \"norway\" ,\n",
    "'Helsinki' : \"finland\" ,\n",
    "'Bratislava' : \"slovakia\",\n",
    "'Luxembourg' : \"luxembourg\" ,\n",
    "'Ljubljana' :\"slovenia\",\n",
    "'Athens' : 'greece',\n",
    "'Copenhagen' : 'denmark'\n",
    "}\n",
    "\n",
    "# Словарь общих определений  для всех типов кухонь в датасете \n",
    "cuisine_type = {\n",
    "\"European\":\"national\",\n",
    "\"French\":\"national\",\n",
    "\"International\":\"national\",\n",
    "\"Japanese\":\"national\",\n",
    "\"Asian\":\"national\",\n",
    "\"German\":\"national\",\n",
    "\"Central European\":\"national\",\n",
    "\"Italian\":\"national\",\n",
    "\"Mediterranean\":\"national\",\n",
    "\"Spanish\":\"national\",\n",
    "\"Thai\":\"national\",\n",
    "\"Vietnamese\":\"national\",\n",
    "\"Chinese\":\"national\",\n",
    "\"British\":\"national\",\n",
    "\"Polish\":\"national\",\n",
    "\"Dutch\":\"national\",\n",
    "\"Mexican\":\"national\",\n",
    "\"Venezuelan\":\"national\",\n",
    "\"South American\":\"national\",\n",
    "\"Belgian\":\"national\",\n",
    "\"Latin\":\"national\",\n",
    "\"Argentinean\":\"national\",\n",
    "\"Irish\":\"national\",\n",
    "\"Swiss\":\"national\",\n",
    "\"Portuguese\":\"national\",\n",
    "\"Greek\":\"national\",\n",
    "\"Central American\":\"national\",\n",
    "\"Indian\":\"national\",\n",
    "\"Middle Eastern\":\"national\",\n",
    "\"Turkish\":\"national\",\n",
    "\"Hungarian\":\"national\",\n",
    "\"Pakistani\":\"national\",\n",
    "\"Peruvian\":\"national\",\n",
    "\"Eastern European\":\"national\",\n",
    "\"Swedish\":\"national\",\n",
    "\"Scandinavian\":\"national\",\n",
    "\"Tibetan\":\"national\",\n",
    "\"Nepali\":\"national\",\n",
    "\"Korean\":\"national\",\n",
    "\"Southwestern\":\"national\",\n",
    "\"Czech\":\"national\",\n",
    "\"American\":\"national\",\n",
    "\"Slovenian\":\"national\",\n",
    "\"Balti\":\"national\",\n",
    "\"Caribbean\":\"national\",\n",
    "\"Austrian\":\"national\",\n",
    "\"Moroccan\":\"national\",\n",
    "\"Lebanese\":\"national\",\n",
    "\"African\":\"national\",\n",
    "\"Ethiopian\":\"national\",\n",
    "\"Egyptian\":\"national\",\n",
    "\"Danish\":\"national\",\n",
    "\"Brazilian\":\"national\",\n",
    "\"Ecuadorean\":\"national\",\n",
    "\"Israeli\":\"national\",\n",
    "\"Australian\":\"national\",\n",
    "\"Singaporean\":\"national\",\n",
    "\"Malaysian\":\"national\",\n",
    "\"Minority Chinese\":\"national\",\n",
    "\"Scottish\":\"national\",\n",
    "\"Arabic\":\"national\",\n",
    "\"Ukrainian\":\"national\",\n",
    "\"Chilean\":\"national\",\n",
    "\"Mongolian\":\"national\",\n",
    "\"Cuban\":\"national\",\n",
    "\"Persian\":\"national\",\n",
    "\"Indonesian\":\"national\",\n",
    "\"Colombian\":\"national\",\n",
    "\"Jamaican\":\"national\",\n",
    "\"Norwegian\":\"national\",\n",
    "\"Hawaiian\":\"national\",\n",
    "\"Armenian\":\"national\",\n",
    "\"Taiwanese\":\"national\",\n",
    "\"Bangladeshi\":\"national\",\n",
    "\"Sri Lankan\":\"national\",\n",
    "\"Cambodian\":\"national\",\n",
    "\"Albanian\":\"national\",\n",
    "\"New Zealand\":\"national\",\n",
    "\"Croatian\":\"national\",\n",
    "\"Central Asian\":\"national\",\n",
    "\"Filipino\":\"national\",\n",
    "\"Tunisian\":\"national\",\n",
    "\"Cajun & Creole\":\"national\",\n",
    "\"Romanian\":\"national\",\n",
    "\"Georgian\":\"national\",\n",
    "\"Polynesian\":\"national\",\n",
    "\"Azerbaijani\":\"national\",\n",
    "\"Caucasian\":\"national\",\n",
    "\"Afghani\":\"national\",\n",
    "\"Uzbek\":\"national\",\n",
    "\"Salvadoran\":\"national\",\n",
    "\"Yunnan\":\"national\",\n",
    "\"Native American\":\"national\",\n",
    "\"Canadian\":\"national\",\n",
    "\"Xinjiang\":\"national\",\n",
    "\"Burmese\":\"national\",\n",
    "\"Fujian\":\"national\",\n",
    "\"Welsh\":\"national\",\n",
    "\"Latvian\":\"national\",\n",
    "\"Russian\":\"national\",\n",
    "\"Kosher\":\"religious\",\n",
    "\"Halal\":\"religious\",\n",
    "\"Bar\":\"bar\",\n",
    "\"Pub\":\"bar\",\n",
    "\"Wine Bar\":\"bar\",\n",
    "\"Brew Pub\":\"bar\",\n",
    "\"Gastropub\":\"bar\",\n",
    "\"Sushi\":\"fast_food\",\n",
    "\"Pizza\":\"fast_food\",\n",
    "\"Fast Food\":\"fast_food\",\n",
    "\"Street Food\":\"fast_food\",\n",
    "\"Grill\":\"meat\",\n",
    "\"Steakhouse\":\"meat\",\n",
    "\"Seafood\":\"fish\",\n",
    "\"Barbecue\":\"meat\",\n",
    "\"Vegetarian Friendly\":\"vegi\",\n",
    "\"Vegan Options\":\"vegi\",\n",
    "\"Vegan Options\":\"healthy\",\n",
    "\"Gluten Free Options\":\"vegi\",\n",
    "\"Cafe\":\"common\",\n",
    "\"Soups\":\"common\",\n",
    "\"Diner\":\"common\",\n",
    "\"Fusion\":\"special\",\n",
    "\"Contemporary\":\"special\",\n",
    "\"Delicatessen\":\"special\",\n",
    "\"one\":\"none\"\n",
    "}\n",
    "\n",
    "# Словарь количества ресторанов для каждой страны \n",
    "# присутствующей в датасете (Внешний источник - 2018 )\n",
    "rest_num  = {\n",
    "\"uk\": 83622,\n",
    "\"france\" : 169338 , \n",
    "\"spain\" : 75591,\n",
    "\"germany\" : 133555,\n",
    "\"italy\" : 146089 ,\n",
    "\"czech \" : 48241,\n",
    "\"portugal\" : 29893,\n",
    "\"austria\" : 27754,\n",
    "\"netherlands\" : 28750 ,\n",
    "\"belgium\" : 28029,\n",
    "\"sweden\" : 24953,\n",
    "\"hungary\" : 16514,\n",
    "\"poland\" : 27829,\n",
    "\"ireland\" : 7570,\n",
    "\"swiss\" : 5850 ,\n",
    "\"norway\" : 6600,\n",
    "\"finland\" : 7848,\n",
    "\"slovakia\" : 10692,\n",
    "\"luxembourg\" : 1430,\n",
    "\"slovenia\" : 4478,\n",
    "\"greece\" : 43766,\n",
    "\"denmark\" :8537\n",
    "}\n",
    "\n",
    "# Количество ресторанов Мишлен в каждом городе (Внешний источник - 2018 )\n",
    "michelin_rest = {\n",
    "'London' : 380 ,\n",
    "'Edinburgh' : 22,\n",
    "'Paris': 453,\n",
    "'Lyon' : 75 , \n",
    "'Madrid' : 97,\n",
    "'Barcelona': 61,\n",
    "'Berlin' : 66,\n",
    "'Hamburg': 63,\n",
    "'Munich' : 61 ,\n",
    "'Rome' : 54,\n",
    "'Milan' : 87,\n",
    "'Prague' : 27,\n",
    "'Lisbon' : 21,\n",
    "'Oporto' : 11,\n",
    "'Vienna': 58,\n",
    "'Amsterdam' : 75,\n",
    "'Brussels' : 43,\n",
    "'Stockholm' : 46,\n",
    "'Budapest' : 22,\n",
    "'Warsaw' : 20,\n",
    "'Krakow' : 19,\n",
    "'Dublin' : 17,\n",
    "'Zurich' : 76,\n",
    "'Geneva' : 58,\n",
    "'Oslo' : 29,\n",
    "'Helsinki' : 29,\n",
    "'Bratislava' : 0,\n",
    "'Luxembourg' : 41,\n",
    "'Ljubljana' : 15,\n",
    "'Athens' : 20,\n",
    "'Copenhagen' : 63\n",
    "}\n",
    "\n",
    "# Количество туристов посещающих каждый из городов (Внешний источник - 2018 )\n",
    "\n",
    "city_tourists = {\n",
    "'London' : 19233000 ,\n",
    "'Edinburgh' : 1660000,\n",
    "'Paris': 17560200,\n",
    "'Lyon' : 6200000 , \n",
    "'Madrid' : 5440100,\n",
    "'Barcelona': 6714500,\n",
    "'Berlin' : 5959400,\n",
    "'Hamburg': 1450000,\n",
    "'Munich' : 4066600 ,\n",
    "'Rome' : 10065400,\n",
    "'Milan' : 6481300,\n",
    "'Prague' : 8948600,\n",
    "'Lisbon' : 3539400,\n",
    "'Oporto' : 2341300,\n",
    "'Vienna': 6410300,\n",
    "'Amsterdam' : 8354200,\n",
    "'Brussels' : 3942000,\n",
    "'Stockholm' : 2604600,\n",
    "'Budapest' : 3822800,\n",
    "'Warsaw' : 2850000,\n",
    "'Krakow' : 2732000,\n",
    "'Dublin' : 5213400,\n",
    "'Zurich' : 2240000,\n",
    "'Geneva' : 1150000,\n",
    "'Oslo' : 1400000,\n",
    "'Helsinki' : 5300000,\n",
    "'Bratislava' : 5400000,\n",
    "'Luxembourg' :1046000 ,\n",
    "'Ljubljana' : 5900000,\n",
    "'Athens' : 5728400,\n",
    "'Copenhagen' : 3069700\n",
    "}\n",
    "\n",
    "# Уровень безработицы по странам (Внешний источник - 2018 )\n",
    "unemp_city_rate = {\n",
    "'London' : 5.1 ,\n",
    "'Edinburgh' : 3.8,\n",
    "'Paris': 8.8,\n",
    "'Lyon' : 7.3 , \n",
    "'Madrid' : 12.2,\n",
    "'Barcelona': 11.5,\n",
    "'Berlin' : 6.1,\n",
    "'Hamburg': 4.1,\n",
    "'Munich' : 2.3 ,\n",
    "'Rome' : 11.1,\n",
    "'Milan' : 6.0,\n",
    "'Prague' : 1.3,\n",
    "'Lisbon' : 7.4,\n",
    "'Oporto' : 7.3,\n",
    "'Vienna': 10.0,\n",
    "'Amsterdam' : 3.8,\n",
    "'Brussels' : 13.2,\n",
    "'Stockholm' : 5.8,\n",
    "'Budapest' : 3.1,\n",
    "'Warsaw' : 2.4,\n",
    "'Krakow' : 3.3,\n",
    "'Dublin' : 5.8,\n",
    "'Zurich' : 4.3,\n",
    "'Geneva' : 7.5,\n",
    "'Oslo' : 4.2,\n",
    "'Helsinki' : 6.9,\n",
    "'Bratislava' : 2.9,\n",
    "'Luxembourg' :5.4 ,\n",
    "'Ljubljana' : 4.7,\n",
    "'Athens' : 18.9,\n",
    "'Copenhagen' : 5.3\n",
    "}"
   ]
  },
  {
   "cell_type": "markdown",
   "metadata": {},
   "source": [
    "Пойдем по порядку и приведем ценовой разброс к числовому значению , при этом отсутствующим значениям присвоим ноль"
   ]
  },
  {
   "cell_type": "code",
   "execution_count": 18,
   "metadata": {},
   "outputs": [],
   "source": [
    "df['price_range'] = df.apply(rf.price_range, axis=1)"
   ]
  },
  {
   "cell_type": "markdown",
   "metadata": {},
   "source": [
    "Посчитаем количество кухонь в каждом ресторане"
   ]
  },
  {
   "cell_type": "code",
   "execution_count": 19,
   "metadata": {},
   "outputs": [],
   "source": [
    "df['num_cuisines'] = df.apply(calculate_cuisines, axis=1)"
   ]
  },
  {
   "cell_type": "markdown",
   "metadata": {},
   "source": [
    "Чтобы не слишком загружать модель добавим страну для каждого города и из стран создадим dummy с помощью функции get_dummies"
   ]
  },
  {
   "cell_type": "code",
   "execution_count": 20,
   "metadata": {},
   "outputs": [],
   "source": [
    "df['country'] = df['City'].map(countries)\n",
    "dummy = pd.get_dummies(df['country'])\n",
    "df = pd.concat([df,dummy],axis = 1)"
   ]
  },
  {
   "cell_type": "markdown",
   "metadata": {},
   "source": [
    "Так же как и с городами , воспользуемся  словарем с целью создания груп кухонь, что , по идее , должно  улучшить точность модели "
   ]
  },
  {
   "cell_type": "code",
   "execution_count": 21,
   "metadata": {},
   "outputs": [],
   "source": [
    "df1 = df\n",
    "df1['Cuisine Style'] = df1['Cuisine Style'].apply(rf.filter_cuisine_style)\n",
    "df1 = df1.explode(column='Cuisine Style')\n",
    "df1['cuisine_type'] = df1['Cuisine Style'].str.strip(\"'\").map(cuisine_type)\n",
    "dummy2 = pd.get_dummies(df1['cuisine_type']).max(level=0)\n",
    "df = pd.concat([df,dummy2],axis = 1)"
   ]
  },
  {
   "cell_type": "markdown",
   "metadata": {},
   "source": [
    "Из внешних источников , получим общее количество ресторанов для каждой страны . Вполне ввероятно , что это может повлиять на точность нашего предсказания."
   ]
  },
  {
   "cell_type": "code",
   "execution_count": 22,
   "metadata": {},
   "outputs": [],
   "source": [
    "df['rest_num'] = df.country.map(rest_num)"
   ]
  },
  {
   "cell_type": "markdown",
   "metadata": {},
   "source": [
    "Опять же, из внешних источников добавим количество ресторанов из справочника Мишлен для каждого города (они-то точно знают , где  больше хороших ресторанов)"
   ]
  },
  {
   "cell_type": "code",
   "execution_count": 23,
   "metadata": {},
   "outputs": [],
   "source": [
    "df['michelin_rest'] = df['City'].map(michelin_rest)"
   ]
  },
  {
   "cell_type": "markdown",
   "metadata": {},
   "source": [
    "Теперь, посчитаем общее количество ресторанов в каждом городе  и вычислим процент ресторанов \"Мишлен\" в каждом из них "
   ]
  },
  {
   "cell_type": "code",
   "execution_count": 24,
   "metadata": {},
   "outputs": [],
   "source": [
    "df_tmp = df['City'].value_counts()\n",
    "df['city_rest_counts'] = df['City'].apply(lambda x: df_tmp[x])\n",
    "df['michelin_rate'] = df['michelin_rest']/df['city_rest_counts']"
   ]
  },
  {
   "cell_type": "markdown",
   "metadata": {},
   "source": [
    "Проверим сколько туристов посещает в течении года каждый из городов и вычислим соотношение туристов на ресторан в городе (чем выше количество туристов посещающих ресторан тем выше вероятность получить низкий рейтинг - всегда найдется достаточное количество недовольных )"
   ]
  },
  {
   "cell_type": "code",
   "execution_count": 25,
   "metadata": {},
   "outputs": [],
   "source": [
    "df['city_tourists'] = df['City'].map(city_tourists)\n",
    "df['rest_by_tourists'] = df['city_rest_counts']/df['city_tourists']"
   ]
  },
  {
   "cell_type": "markdown",
   "metadata": {},
   "source": [
    "В довершение, проверим уровень безработицы по городам - чем выше уровень , тем лучше должно быть обслуживание ( кому хочется быть уволенным , если работы не так-то просто найти)"
   ]
  },
  {
   "cell_type": "code",
   "execution_count": 26,
   "metadata": {},
   "outputs": [],
   "source": [
    "df['unemp_city_rate'] = df['City'].map(unemp_city_rate)"
   ]
  },
  {
   "cell_type": "markdown",
   "metadata": {},
   "source": [
    "Посчитаем процентное соотношение ресторанов по городам"
   ]
  },
  {
   "cell_type": "code",
   "execution_count": 27,
   "metadata": {},
   "outputs": [],
   "source": [
    "df['pr_country_rest'] = df['city_rest_counts']/df['rest_num']"
   ]
  },
  {
   "cell_type": "markdown",
   "metadata": {},
   "source": [
    "**Что получилось на данный момент ?**"
   ]
  },
  {
   "cell_type": "markdown",
   "metadata": {},
   "source": [
    "Удалим все категориальные признаки"
   ]
  },
  {
   "cell_type": "code",
   "execution_count": 28,
   "metadata": {},
   "outputs": [],
   "source": [
    "object_columns = [s for s in df.columns if df[s].dtypes == 'object']\n",
    "df.drop(object_columns, axis=1, inplace = True)"
   ]
  },
  {
   "cell_type": "markdown",
   "metadata": {},
   "source": [
    "Построим корреляционную матрицу и проверим отношения между признаками "
   ]
  },
  {
   "cell_type": "code",
   "execution_count": 29,
   "metadata": {},
   "outputs": [
    {
     "data": {
      "text/plain": [
       "<matplotlib.axes._subplots.AxesSubplot at 0x1a220cc810>"
      ]
     },
     "execution_count": 29,
     "metadata": {},
     "output_type": "execute_result"
    },
    {
     "data": {
      "image/png": "[encoded data removed]",
      "text/plain": [
       "<Figure size 1080x720 with 2 Axes>"
      ]
     },
     "metadata": {
      "needs_background": "light"
     },
     "output_type": "display_data"
    }
   ],
   "source": [
    "plt.rcParams['figure.figsize'] = (15, 10)\n",
    "sns.heatmap(df.corr())"
   ]
  },
  {
   "cell_type": "markdown",
   "metadata": {},
   "source": [
    "Можно заметить , что существует довольно сильная корреляция у некоторых признаков ,но в даднном случае удалять их не будем"
   ]
  },
  {
   "cell_type": "code",
   "execution_count": 30,
   "metadata": {},
   "outputs": [
    {
     "name": "stdout",
     "output_type": "stream",
     "text": [
      "<class 'pandas.core.frame.DataFrame'>\n",
      "RangeIndex: 40000 entries, 0 to 39999\n",
      "Data columns (total 46 columns):\n",
      " #   Column             Non-Null Count  Dtype  \n",
      "---  ------             --------------  -----  \n",
      " 0   Ranking            40000 non-null  float64\n",
      " 1   Rating             40000 non-null  float64\n",
      " 2   Number of Reviews  40000 non-null  float64\n",
      " 3   price_range        40000 non-null  int64  \n",
      " 4   num_cuisines       40000 non-null  int64  \n",
      " 5   austria            40000 non-null  uint8  \n",
      " 6   belgium            40000 non-null  uint8  \n",
      " 7   czech              40000 non-null  uint8  \n",
      " 8   denmark            40000 non-null  uint8  \n",
      " 9   finland            40000 non-null  uint8  \n",
      " 10  france             40000 non-null  uint8  \n",
      " 11  germany            40000 non-null  uint8  \n",
      " 12  greece             40000 non-null  uint8  \n",
      " 13  hungary            40000 non-null  uint8  \n",
      " 14  ireland            40000 non-null  uint8  \n",
      " 15  italy              40000 non-null  uint8  \n",
      " 16  luxembourg         40000 non-null  uint8  \n",
      " 17  netherlands        40000 non-null  uint8  \n",
      " 18  norway             40000 non-null  uint8  \n",
      " 19  poland             40000 non-null  uint8  \n",
      " 20  portugal           40000 non-null  uint8  \n",
      " 21  slovakia           40000 non-null  uint8  \n",
      " 22  slovenia           40000 non-null  uint8  \n",
      " 23  spain              40000 non-null  uint8  \n",
      " 24  sweden             40000 non-null  uint8  \n",
      " 25  swiss              40000 non-null  uint8  \n",
      " 26  uk                 40000 non-null  uint8  \n",
      " 27  bar                40000 non-null  uint8  \n",
      " 28  common             40000 non-null  uint8  \n",
      " 29  fast_food          40000 non-null  uint8  \n",
      " 30  fish               40000 non-null  uint8  \n",
      " 31  healthy            40000 non-null  uint8  \n",
      " 32  meat               40000 non-null  uint8  \n",
      " 33  national           40000 non-null  uint8  \n",
      " 34  none               40000 non-null  uint8  \n",
      " 35  religious          40000 non-null  uint8  \n",
      " 36  special            40000 non-null  uint8  \n",
      " 37  vegi               40000 non-null  uint8  \n",
      " 38  rest_num           40000 non-null  int64  \n",
      " 39  michelin_rest      40000 non-null  int64  \n",
      " 40  city_rest_counts   40000 non-null  int64  \n",
      " 41  michelin_rate      40000 non-null  float64\n",
      " 42  city_tourists      40000 non-null  int64  \n",
      " 43  rest_by_tourists   40000 non-null  float64\n",
      " 44  unemp_city_rate    40000 non-null  float64\n",
      " 45  pr_country_rest    40000 non-null  float64\n",
      "dtypes: float64(7), int64(6), uint8(33)\n",
      "memory usage: 5.2 MB\n"
     ]
    }
   ],
   "source": [
    "df.info()"
   ]
  },
  {
   "cell_type": "markdown",
   "metadata": {},
   "source": [
    "Подготовка для модели И результат ..."
   ]
  },
  {
   "cell_type": "code",
   "execution_count": 31,
   "metadata": {},
   "outputs": [],
   "source": [
    "X = df.drop(['Rating'], axis = 1)  \n",
    "y = df['Rating']  "
   ]
  },
  {
   "cell_type": "code",
   "execution_count": 32,
   "metadata": {},
   "outputs": [
    {
     "name": "stdout",
     "output_type": "stream",
     "text": [
      "MAE: 0.18425\n"
     ]
    }
   ],
   "source": [
    "X = df.drop(['Rating'], axis = 1)  \n",
    "y = np.round(df['Rating']*2)/2\n",
    "\n",
    "# Наборы данных с меткой \"train\" будут использоваться для обучения модели, \"test\" - для тестирования.  \n",
    "# Для тестирования мы будем использовать 25% от исходного датасета.  \n",
    "X_train, X_test, y_train, y_test = train_test_split(X, y, test_size=0.25) \n",
    "\n",
    "regr = RandomForestRegressor(n_estimators=100)  \n",
    " \n",
    "\n",
    "regr.fit(X_train, y_train)  \n",
    "\n",
    "y_pred = np.round(regr.predict(X_test)*2)/2  \n",
    "\n",
    "y_pred\n",
    "\n",
    "print('MAE:', metrics.mean_absolute_error(y_test, y_pred))  "
   ]
  },
  {
   "cell_type": "markdown",
   "metadata": {},
   "source": [
    "## Выводы"
   ]
  },
  {
   "cell_type": "markdown",
   "metadata": {},
   "source": [
    "Для того чтобы увеличить точность предсказания использовани одних данных , существующих в датасете оказалось недостаточным . Пришлось обращаться к внешним источникам ,в результате чего точность предсказания увеличилась более чем в два раза.  \n",
    "\n",
    "Как и слодовало ожидать, некоторые добавленные признаки никак не повлияли на результат , другие же даже ухудшили его ( конечно от таких данных пришлось избавиться).  \n",
    "\n",
    "Несомннено , минусом на данный момент , является отсутствие знаний парсинга сайтов , на мой взгляд это могло бы существенно помочь.  \n",
    "\n",
    "Кроме того было добавлено округление значений y _pred (подсмотрено в других работах )  "
   ]
  },
  {
   "cell_type": "code",
   "execution_count": null,
   "metadata": {},
   "outputs": [],
   "source": []
  }
 ],
 "metadata": {
  "kernelspec": {
   "display_name": "Python 3",
   "language": "python",
   "name": "python3"
  },
  "language_info": {
   "codemirror_mode": {
    "name": "ipython",
    "version": 3
   },
   "file_extension": ".py",
   "mimetype": "text/x-python",
   "name": "python",
   "nbconvert_exporter": "python",
   "pygments_lexer": "ipython3",
   "version": "3.7.6"
  }
 },
 "nbformat": 4,
 "nbformat_minor": 4
}
